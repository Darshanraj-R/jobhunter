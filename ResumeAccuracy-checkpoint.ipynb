{
 "cells": [
  {
   "cell_type": "code",
   "execution_count": null,
   "id": "a6fc2d6b",
   "metadata": {},
   "outputs": [],
   "source": []
  },
  {
   "cell_type": "code",
   "execution_count": 1,
   "id": "0bb3ad4c",
   "metadata": {},
   "outputs": [],
   "source": [
    "import docx2txt\n",
    "from sklearn.feature_extraction.text import CountVectorizer"
   ]
  },
  {
   "cell_type": "markdown",
   "id": "ccad0e64",
   "metadata": {},
   "source": []
  },
  {
   "cell_type": "code",
   "execution_count": 8,
   "id": "9818d320",
   "metadata": {},
   "outputs": [],
   "source": [
    "resume = docx2txt.process(\"Darshanraj's Resume.docx\")   #Darshanraj's Resume.docx   #amarnath.docx"
   ]
  },
  {
   "cell_type": "code",
   "execution_count": 9,
   "id": "b757b2fe",
   "metadata": {
    "scrolled": false
   },
   "outputs": [
    {
     "name": "stdout",
     "output_type": "stream",
     "text": [
      "Darshanraj K R\n",
      "\n",
      "\n",
      "\n",
      "Coding-Enthusiast\n",
      "\n",
      "\n",
      "\n",
      "To obtain a responsible position that best utilizes my skills and provides opportunities to grow my technical and managerial skills which would enable me as a fresh graduate to grow while fulfilling organizational goals.\n",
      "\n",
      "\n",
      "\n",
      "darshanrajkr124@gmail.com\n",
      "\n",
      "9886546509\n",
      "\n",
      "Bangalore, India\n",
      "\n",
      "rattlenews.blogspot.com/\n",
      "\n",
      "linkedin.com/in/darshanraj-r-0176121a0\n",
      "\n",
      "github.com/Darshanraj-R\n",
      "\n",
      "\n",
      "\n",
      "\n",
      "\n",
      "\n",
      "\n",
      "\n",
      "\n",
      "\n",
      "\n",
      "EDUCATION\n",
      "\n",
      "\n",
      "\n",
      "MCA\n",
      "\n",
      "\n",
      "\n",
      "PES University - Bangalore, India\n",
      "\n",
      "\n",
      "\n",
      "\t01/2022 - Present,\t8.6 CGPA\n",
      "\n",
      "\n",
      "\n",
      "B.sc | PMCs\n",
      "\n",
      "\n",
      "\n",
      "Vijaya College - Bangalore, India\n",
      "\n",
      "\n",
      "\n",
      "\t2021,\t8.1 CGPA\n",
      "\n",
      "\n",
      "\n",
      "12th Boards | PCMCs\n",
      "\n",
      "\n",
      "\n",
      "S.G.P.T.A PU College\n",
      "\n",
      "\n",
      "\n",
      "\t2018,\t83%\n",
      "\n",
      "\n",
      "\n",
      "\n",
      "\n",
      "\n",
      "\n",
      "PERSONAL PROJECTS\n",
      "\n",
      "\n",
      "\n",
      "APPLICATION OF PIGEONHOLE PRINCIPLE\n",
      "\n",
      "\n",
      "\n",
      "Academic Project to implement and demonstrate pigeonhole principle and its application using Web-Application Frameworks\n",
      "\n",
      "\n",
      "\n",
      "02/2022 - 03/2022,\n",
      "\n",
      "\n",
      "\n",
      "Shorting Visualizer\n",
      "\n",
      "\n",
      "\n",
      "Implementing sorting algorithms which helps the beginner to understand the sorting algorithm Visually\n",
      "\n",
      "\n",
      "\n",
      "04/2022,\n",
      "\n",
      "\n",
      "\n",
      "Tic-Tac-Toe + Snake Game\n",
      "\n",
      "\n",
      "\n",
      "Single Player dynamic game implemented using Html,Css and JavaScript\n",
      "\n",
      "\n",
      "\n",
      "05/2021 - 06/2021,\n",
      "\n",
      "\n",
      "\n",
      "\n",
      "\n",
      "\n",
      "\n",
      "POSITION OF RESPONSIPBILITY\n",
      "\n",
      "\n",
      "\n",
      "\n",
      "\n",
      "\n",
      "SKILLS\n",
      "\n",
      "\n",
      "\n",
      "\n",
      "\n",
      "\t\tCore Java\tWeb Development\tData Structures\n",
      "\n",
      "\n",
      "\n",
      "\n",
      "\n",
      "\t\tHTML+CSS\tData Visulation\tEclipse\n",
      "\n",
      "\n",
      "\n",
      "\n",
      "\n",
      "Visual Studio\n",
      "\n",
      "\n",
      "\n",
      "\n",
      "\n",
      "\n",
      "\n",
      "CERTIFICATES\n",
      "\n",
      "\n",
      "\n",
      "Programming Foundations with JavaScript, HTML, and CSS (04/2020)\n",
      "\n",
      "\n",
      "\n",
      "Technical Support Fundamentals by Google (07/2020)\n",
      "\n",
      "\n",
      "\n",
      "The Bits and Bytes of Computer Networking by Google (09/2020)\n",
      "\n",
      "\n",
      "\n",
      "\n",
      "\n",
      "\n",
      "\n",
      "LANGUAGES\n",
      "\n",
      "\n",
      "\n",
      "Java\n",
      "\n",
      "\n",
      "\n",
      "Limited Working Proficiency\n",
      "\n",
      "\n",
      "\n",
      "Python\n",
      "\n",
      "\n",
      "\n",
      "Limited Working Proficiency\n",
      "\n",
      "\n",
      "\n",
      "Javascript\n",
      "\n",
      "\n",
      "\n",
      "Limited Working Proficiency\n",
      "\n",
      "\n",
      "\n",
      "\n",
      "\n",
      "\n",
      "\n",
      "INTERESTS\n",
      "\n",
      "\n",
      "\n",
      "\n",
      "\n",
      "\t\tBlogging\tLearning languages\tTravelling\n",
      "\n",
      "\n",
      "\n",
      "\n",
      "\n",
      "\n",
      "\n",
      "Volunteer in blood donation camp(2019) organized at my\n",
      "\n",
      "Photography\n",
      "\n",
      "Gaming\n",
      "\n",
      "college.\n"
     ]
    }
   ],
   "source": [
    "print(resume)"
   ]
  },
  {
   "cell_type": "code",
   "execution_count": 10,
   "id": "0807dfbd",
   "metadata": {},
   "outputs": [],
   "source": [
    "job_desc = docx2txt.process(\"job_description.docx\")   #Untitled document.docx"
   ]
  },
  {
   "cell_type": "code",
   "execution_count": 36,
   "id": "835690de",
   "metadata": {},
   "outputs": [
    {
     "name": "stdout",
     "output_type": "stream",
     "text": [
      "UI/UX knowledge\n",
      "\n",
      " Basic visual and brand identity sense\n",
      "\n",
      " Fluency in interpreting and working with third-party APIs or microservices to deliver content or sync product content\n",
      "\n",
      "Familiar with common tools, design patterns, and practices for developing cloud-based applications, and building reusable components\n",
      "\n",
      " Analytical and detail-oriented and advanced problem-solvers\n",
      "\n",
      " Able to work autonomously, and be willing to seek assistance when needed\n",
      "\n",
      "In-depth knowledge of HTML5, CSS3, JavaScript/jquery\n"
     ]
    }
   ],
   "source": [
    "print(job_desc)"
   ]
  },
  {
   "cell_type": "code",
   "execution_count": 11,
   "id": "e42b3066",
   "metadata": {},
   "outputs": [
    {
     "name": "stdout",
     "output_type": "stream",
     "text": [
      "['Darshanraj K R\\n\\n\\n\\nCoding-Enthusiast\\n\\n\\n\\nTo obtain a responsible position that best utilizes my skills and provides opportunities to grow my technical and managerial skills which would enable me as a fresh graduate to grow while fulfilling organizational goals.\\n\\n\\n\\ndarshanrajkr124@gmail.com\\n\\n9886546509\\n\\nBangalore, India\\n\\nrattlenews.blogspot.com/\\n\\nlinkedin.com/in/darshanraj-r-0176121a0\\n\\ngithub.com/Darshanraj-R\\n\\n\\n\\n\\n\\n\\n\\n\\n\\n\\n\\nEDUCATION\\n\\n\\n\\nMCA\\n\\n\\n\\nPES University - Bangalore, India\\n\\n\\n\\n\\t01/2022 - Present,\\t8.6 CGPA\\n\\n\\n\\nB.sc | PMCs\\n\\n\\n\\nVijaya College - Bangalore, India\\n\\n\\n\\n\\t2021,\\t8.1 CGPA\\n\\n\\n\\n12th Boards | PCMCs\\n\\n\\n\\nS.G.P.T.A PU College\\n\\n\\n\\n\\t2018,\\t83%\\n\\n\\n\\n\\n\\n\\n\\nPERSONAL PROJECTS\\n\\n\\n\\nAPPLICATION OF PIGEONHOLE PRINCIPLE\\n\\n\\n\\nAcademic Project to implement and demonstrate pigeonhole principle and its application using Web-Application Frameworks\\n\\n\\n\\n02/2022 - 03/2022,\\n\\n\\n\\nShorting Visualizer\\n\\n\\n\\nImplementing sorting algorithms which helps the beginner to understand the sorting algorithm Visually\\n\\n\\n\\n04/2022,\\n\\n\\n\\nTic-Tac-Toe + Snake Game\\n\\n\\n\\nSingle Player dynamic game implemented using Html,Css and JavaScript\\n\\n\\n\\n05/2021 - 06/2021,\\n\\n\\n\\n\\n\\n\\n\\nPOSITION OF RESPONSIPBILITY\\n\\n\\n\\n\\n\\n\\nSKILLS\\n\\n\\n\\n\\n\\n\\t\\tCore Java\\tWeb Development\\tData Structures\\n\\n\\n\\n\\n\\n\\t\\tHTML+CSS\\tData Visulation\\tEclipse\\n\\n\\n\\n\\n\\nVisual Studio\\n\\n\\n\\n\\n\\n\\n\\nCERTIFICATES\\n\\n\\n\\nProgramming Foundations with JavaScript, HTML, and CSS (04/2020)\\n\\n\\n\\nTechnical Support Fundamentals by Google (07/2020)\\n\\n\\n\\nThe Bits and Bytes of Computer Networking by Google (09/2020)\\n\\n\\n\\n\\n\\n\\n\\nLANGUAGES\\n\\n\\n\\nJava\\n\\n\\n\\nLimited Working Proficiency\\n\\n\\n\\nPython\\n\\n\\n\\nLimited Working Proficiency\\n\\n\\n\\nJavascript\\n\\n\\n\\nLimited Working Proficiency\\n\\n\\n\\n\\n\\n\\n\\nINTERESTS\\n\\n\\n\\n\\n\\n\\t\\tBlogging\\tLearning languages\\tTravelling\\n\\n\\n\\n\\n\\n\\n\\nVolunteer in blood donation camp(2019) organized at my\\n\\nPhotography\\n\\nGaming\\n\\ncollege.', 'UI/UX knowledge  Basic visual and brand identity sense Fluency in interpreting and working with third-party APIs or microservices to deliver content or sync product contentFamiliar with common tools, design patterns, and practices for developing cloud-based applications, and building reusable componentsAnalytical and detail-oriented and advanced problem-solversAble to work autonomously, and be willing to seek assistance when neededIn-depth knowledge of HTML5, CSS3, JavaScript/jquery ']\n"
     ]
    }
   ],
   "source": [
    "string = \"UI/UX knowledge  Basic visual and brand identity sense Fluency in interpreting and working with third-party APIs or microservices to deliver content or sync product contentFamiliar with common tools, design patterns, and practices for developing cloud-based applications, and building reusable componentsAnalytical and detail-oriented and advanced problem-solversAble to work autonomously, and be willing to seek assistance when neededIn-depth knowledge of HTML5, CSS3, JavaScript/jquery \" \n",
    "dars = \" Analytical and detail-oriented and advanced problem-solvers\"\n",
    "text = [resume,string]\n",
    "print(text)"
   ]
  },
  {
   "cell_type": "code",
   "execution_count": 12,
   "id": "042ae551",
   "metadata": {},
   "outputs": [
    {
     "name": "stdout",
     "output_type": "stream",
     "text": [
      "  (0, 59)\t3\n",
      "  (0, 48)\t1\n",
      "  (0, 74)\t1\n",
      "  (0, 169)\t5\n",
      "  (0, 117)\t1\n",
      "  (0, 147)\t1\n",
      "  (0, 133)\t2\n",
      "  (0, 165)\t1\n",
      "  (0, 34)\t1\n",
      "  (0, 177)\t1\n",
      "  (0, 114)\t3\n",
      "  (0, 155)\t3\n",
      "  (0, 21)\t7\n",
      "  (0, 143)\t1\n",
      "  (0, 119)\t1\n",
      "  (0, 89)\t2\n",
      "  (0, 164)\t2\n",
      "  (0, 110)\t1\n",
      "  (0, 187)\t2\n",
      "  (0, 193)\t1\n",
      "  (0, 73)\t1\n",
      "  (0, 112)\t1\n",
      "  (0, 25)\t1\n",
      "  (0, 79)\t1\n",
      "  (0, 88)\t1\n",
      "  :\t:\n",
      "  (1, 76)\t1\n",
      "  (1, 67)\t1\n",
      "  (1, 47)\t1\n",
      "  (1, 30)\t1\n",
      "  (1, 24)\t1\n",
      "  (1, 41)\t1\n",
      "  (1, 149)\t1\n",
      "  (1, 52)\t1\n",
      "  (1, 66)\t1\n",
      "  (1, 123)\t1\n",
      "  (1, 18)\t1\n",
      "  (1, 137)\t1\n",
      "  (1, 157)\t1\n",
      "  (1, 191)\t1\n",
      "  (1, 28)\t1\n",
      "  (1, 32)\t1\n",
      "  (1, 189)\t1\n",
      "  (1, 151)\t1\n",
      "  (1, 26)\t1\n",
      "  (1, 186)\t1\n",
      "  (1, 115)\t1\n",
      "  (1, 64)\t1\n",
      "  (1, 92)\t1\n",
      "  (1, 58)\t1\n",
      "  (1, 104)\t1\n"
     ]
    }
   ],
   "source": [
    "\n",
    "cv = CountVectorizer()\n",
    "count_matrix = cv.fit_transform(text)\n",
    "print(count_matrix)"
   ]
  },
  {
   "cell_type": "code",
   "execution_count": 13,
   "id": "d931f836",
   "metadata": {},
   "outputs": [
    {
     "name": "stdout",
     "output_type": "stream",
     "text": [
      "[[1.         0.33781114]\n",
      " [0.33781114 1.        ]]\n"
     ]
    }
   ],
   "source": [
    "from sklearn.metrics.pairwise import cosine_similarity\n",
    "print(cosine_similarity(count_matrix))"
   ]
  },
  {
   "cell_type": "code",
   "execution_count": 14,
   "id": "b1aaa316",
   "metadata": {},
   "outputs": [],
   "source": [
    "match = cosine_similarity(count_matrix)[0][1]\n",
    "match = match*100\n",
    "match = round(match,2)\n"
   ]
  },
  {
   "cell_type": "code",
   "execution_count": 15,
   "id": "4be0e5db",
   "metadata": {},
   "outputs": [
    {
     "name": "stdout",
     "output_type": "stream",
     "text": [
      "rejected\n"
     ]
    }
   ],
   "source": [
    "if(match>35): print(\"accept\")\n",
    "else: print(\"rejected\")"
   ]
  },
  {
   "cell_type": "code",
   "execution_count": 16,
   "id": "18af9430",
   "metadata": {},
   "outputs": [
    {
     "data": {
      "text/plain": [
       "33.78"
      ]
     },
     "execution_count": 16,
     "metadata": {},
     "output_type": "execute_result"
    }
   ],
   "source": [
    "match"
   ]
  },
  {
   "cell_type": "code",
   "execution_count": null,
   "id": "3207d36f",
   "metadata": {},
   "outputs": [],
   "source": []
  }
 ],
 "metadata": {
  "kernelspec": {
   "display_name": "Python 3 (ipykernel)",
   "language": "python",
   "name": "python3"
  },
  "language_info": {
   "codemirror_mode": {
    "name": "ipython",
    "version": 3
   },
   "file_extension": ".py",
   "mimetype": "text/x-python",
   "name": "python",
   "nbconvert_exporter": "python",
   "pygments_lexer": "ipython3",
   "version": "3.10.7"
  }
 },
 "nbformat": 4,
 "nbformat_minor": 5
}
